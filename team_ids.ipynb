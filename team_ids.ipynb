{
 "cells": [
  {
   "cell_type": "code",
   "execution_count": 1,
   "metadata": {
    "collapsed": true
   },
   "outputs": [],
   "source": [
    "import pandas as pd\n",
    "from bs4 import BeautifulSoup\n",
    "import requests"
   ]
  },
  {
   "cell_type": "code",
   "execution_count": 2,
   "metadata": {
    "collapsed": true
   },
   "outputs": [],
   "source": [
    "url = 'http://www.cfbstats.com/2017/team/index.html'\n",
    "response = requests.get(url)"
   ]
  },
  {
   "cell_type": "code",
   "execution_count": 3,
   "metadata": {
    "collapsed": true
   },
   "outputs": [],
   "source": [
    "soup = BeautifulSoup(response.text, 'lxml')"
   ]
  },
  {
   "cell_type": "code",
   "execution_count": 4,
   "metadata": {},
   "outputs": [
    {
     "data": {
      "text/plain": [
       "[<li><a href=\"/2017/team/140/index.html\">Cincinnati</a></li>,\n",
       " <li class=\"even-row\"><a href=\"/2017/team/164/index.html\">Connecticut</a></li>,\n",
       " <li><a href=\"/2017/team/196/index.html\">East Carolina</a></li>,\n",
       " <li class=\"even-row\"><a href=\"/2017/team/288/index.html\">Houston</a></li>,\n",
       " <li><a href=\"/2017/team/404/index.html\">Memphis</a></li>,\n",
       " <li class=\"even-row\"><a href=\"/2017/team/726/index.html\">Navy</a></li>,\n",
       " <li><a href=\"/2017/team/651/index.html\">South Florida</a></li>,\n",
       " <li class=\"even-row\"><a href=\"/2017/team/663/index.html\">SMU</a></li>,\n",
       " <li><a href=\"/2017/team/690/index.html\">Temple</a></li>,\n",
       " <li class=\"even-row\"><a href=\"/2017/team/718/index.html\">Tulane</a></li>,\n",
       " <li><a href=\"/2017/team/719/index.html\">Tulsa</a></li>,\n",
       " <li class=\"even-row\"><a href=\"/2017/team/128/index.html\">UCF</a></li>,\n",
       " <li><a href=\"/2017/team/67/index.html\">Boston College</a></li>,\n",
       " <li class=\"even-row\"><a href=\"/2017/team/147/index.html\">Clemson</a></li>,\n",
       " <li><a href=\"/2017/team/193/index.html\">Duke</a></li>,\n",
       " <li class=\"even-row\"><a href=\"/2017/team/234/index.html\">Florida State</a></li>,\n",
       " <li><a href=\"/2017/team/255/index.html\">Georgia Tech</a></li>,\n",
       " <li class=\"even-row\"><a href=\"/2017/team/367/index.html\">Louisville</a></li>,\n",
       " <li><a href=\"/2017/team/415/index.html\">Miami (Florida)</a></li>,\n",
       " <li class=\"even-row\"><a href=\"/2017/team/457/index.html\">North Carolina</a></li>,\n",
       " <li><a href=\"/2017/team/490/index.html\">North Carolina State</a></li>,\n",
       " <li class=\"even-row\"><a href=\"/2017/team/545/index.html\">Pittsburgh</a></li>,\n",
       " <li><a href=\"/2017/team/688/index.html\">Syracuse</a></li>,\n",
       " <li class=\"even-row\"><a href=\"/2017/team/746/index.html\">Virginia</a></li>,\n",
       " <li><a href=\"/2017/team/742/index.html\">Virginia Tech</a></li>,\n",
       " <li class=\"even-row\"><a href=\"/2017/team/749/index.html\">Wake Forest</a></li>,\n",
       " <li><a href=\"/2017/team/51/index.html\">Baylor</a></li>,\n",
       " <li class=\"even-row\"><a href=\"/2017/team/311/index.html\">Iowa State</a></li>,\n",
       " <li><a href=\"/2017/team/328/index.html\">Kansas</a></li>,\n",
       " <li class=\"even-row\"><a href=\"/2017/team/327/index.html\">Kansas State</a></li>,\n",
       " <li><a href=\"/2017/team/522/index.html\">Oklahoma</a></li>,\n",
       " <li class=\"even-row\"><a href=\"/2017/team/521/index.html\">Oklahoma State</a></li>,\n",
       " <li><a href=\"/2017/team/698/index.html\">TCU</a></li>,\n",
       " <li class=\"even-row\"><a href=\"/2017/team/703/index.html\">Texas</a></li>,\n",
       " <li><a href=\"/2017/team/700/index.html\">Texas Tech</a></li>,\n",
       " <li class=\"even-row\"><a href=\"/2017/team/768/index.html\">West Virginia</a></li>,\n",
       " <li><a href=\"/2017/team/301/index.html\">Illinois</a></li>,\n",
       " <li class=\"even-row\"><a href=\"/2017/team/306/index.html\">Indiana</a></li>,\n",
       " <li><a href=\"/2017/team/312/index.html\">Iowa</a></li>,\n",
       " <li class=\"even-row\"><a href=\"/2017/team/392/index.html\">Maryland</a></li>,\n",
       " <li><a href=\"/2017/team/418/index.html\">Michigan</a></li>,\n",
       " <li class=\"even-row\"><a href=\"/2017/team/416/index.html\">Michigan State</a></li>,\n",
       " <li><a href=\"/2017/team/428/index.html\">Minnesota</a></li>,\n",
       " <li class=\"even-row\"><a href=\"/2017/team/463/index.html\">Nebraska</a></li>,\n",
       " <li><a href=\"/2017/team/509/index.html\">Northwestern</a></li>,\n",
       " <li class=\"even-row\"><a href=\"/2017/team/518/index.html\">Ohio State</a></li>,\n",
       " <li><a href=\"/2017/team/539/index.html\">Penn State</a></li>,\n",
       " <li class=\"even-row\"><a href=\"/2017/team/559/index.html\">Purdue</a></li>,\n",
       " <li><a href=\"/2017/team/587/index.html\">Rutgers</a></li>,\n",
       " <li class=\"even-row\"><a href=\"/2017/team/796/index.html\">Wisconsin</a></li>,\n",
       " <li><a href=\"/2017/team/458/index.html\">Charlotte</a></li>,\n",
       " <li class=\"even-row\"><a href=\"/2017/team/229/index.html\">Florida Atlantic</a></li>,\n",
       " <li><a href=\"/2017/team/231/index.html\">Florida International</a></li>,\n",
       " <li class=\"even-row\"><a href=\"/2017/team/366/index.html\">Louisiana Tech</a></li>,\n",
       " <li><a href=\"/2017/team/388/index.html\">Marshall</a></li>,\n",
       " <li class=\"even-row\"><a href=\"/2017/team/419/index.html\">Middle Tennessee</a></li>,\n",
       " <li><a href=\"/2017/team/497/index.html\">North Texas</a></li>,\n",
       " <li class=\"even-row\"><a href=\"/2017/team/523/index.html\">Old Dominion</a></li>,\n",
       " <li><a href=\"/2017/team/574/index.html\">Rice</a></li>,\n",
       " <li class=\"even-row\"><a href=\"/2017/team/664/index.html\">Southern Mississippi</a></li>,\n",
       " <li><a href=\"/2017/team/9/index.html\">UAB</a></li>,\n",
       " <li class=\"even-row\"><a href=\"/2017/team/704/index.html\">UTEP</a></li>,\n",
       " <li><a href=\"/2017/team/706/index.html\">UTSA</a></li>,\n",
       " <li class=\"even-row\"><a href=\"/2017/team/772/index.html\">Western Kentucky</a></li>,\n",
       " <li><a href=\"/2017/team/725/index.html\">Army</a></li>,\n",
       " <li class=\"even-row\"><a href=\"/2017/team/77/index.html\">BYU</a></li>,\n",
       " <li><a href=\"/2017/team/400/index.html\">Massachusetts</a></li>,\n",
       " <li class=\"even-row\"><a href=\"/2017/team/513/index.html\">Notre Dame</a></li>,\n",
       " <li><a href=\"/2017/team/5/index.html\">Akron</a></li>,\n",
       " <li class=\"even-row\"><a href=\"/2017/team/47/index.html\">Ball State</a></li>,\n",
       " <li><a href=\"/2017/team/71/index.html\">Bowling Green</a></li>,\n",
       " <li class=\"even-row\"><a href=\"/2017/team/86/index.html\">Buffalo</a></li>,\n",
       " <li><a href=\"/2017/team/129/index.html\">Central Michigan</a></li>,\n",
       " <li class=\"even-row\"><a href=\"/2017/team/204/index.html\">Eastern Michigan</a></li>,\n",
       " <li><a href=\"/2017/team/331/index.html\">Kent State</a></li>,\n",
       " <li class=\"even-row\"><a href=\"/2017/team/414/index.html\">Miami (Ohio)</a></li>,\n",
       " <li><a href=\"/2017/team/503/index.html\">Northern Illinois</a></li>,\n",
       " <li class=\"even-row\"><a href=\"/2017/team/519/index.html\">Ohio</a></li>,\n",
       " <li><a href=\"/2017/team/709/index.html\">Toledo</a></li>,\n",
       " <li class=\"even-row\"><a href=\"/2017/team/774/index.html\">Western Michigan</a></li>,\n",
       " <li><a href=\"/2017/team/721/index.html\">Air Force</a></li>,\n",
       " <li class=\"even-row\"><a href=\"/2017/team/66/index.html\">Boise State</a></li>,\n",
       " <li><a href=\"/2017/team/156/index.html\">Colorado State</a></li>,\n",
       " <li class=\"even-row\"><a href=\"/2017/team/96/index.html\">Fresno State</a></li>,\n",
       " <li><a href=\"/2017/team/277/index.html\">Hawai'i</a></li>,\n",
       " <li class=\"even-row\"><a href=\"/2017/team/466/index.html\">Nevada</a></li>,\n",
       " <li><a href=\"/2017/team/473/index.html\">New Mexico</a></li>,\n",
       " <li class=\"even-row\"><a href=\"/2017/team/626/index.html\">San Diego State</a></li>,\n",
       " <li><a href=\"/2017/team/630/index.html\">San Jose State</a></li>,\n",
       " <li class=\"even-row\"><a href=\"/2017/team/465/index.html\">UNLV</a></li>,\n",
       " <li><a href=\"/2017/team/731/index.html\">Utah State</a></li>,\n",
       " <li class=\"even-row\"><a href=\"/2017/team/811/index.html\">Wyoming</a></li>,\n",
       " <li><a href=\"/2017/team/29/index.html\">Arizona</a></li>,\n",
       " <li class=\"even-row\"><a href=\"/2017/team/28/index.html\">Arizona State</a></li>,\n",
       " <li><a href=\"/2017/team/107/index.html\">California</a></li>,\n",
       " <li class=\"even-row\"><a href=\"/2017/team/157/index.html\">Colorado</a></li>,\n",
       " <li><a href=\"/2017/team/529/index.html\">Oregon</a></li>,\n",
       " <li class=\"even-row\"><a href=\"/2017/team/528/index.html\">Oregon State</a></li>,\n",
       " <li><a href=\"/2017/team/657/index.html\">USC</a></li>,\n",
       " <li class=\"even-row\"><a href=\"/2017/team/674/index.html\">Stanford</a></li>,\n",
       " <li><a href=\"/2017/team/110/index.html\">UCLA</a></li>,\n",
       " <li class=\"even-row\"><a href=\"/2017/team/732/index.html\">Utah</a></li>,\n",
       " <li><a href=\"/2017/team/756/index.html\">Washington</a></li>,\n",
       " <li class=\"even-row\"><a href=\"/2017/team/754/index.html\">Washington State</a></li>,\n",
       " <li><a href=\"/2017/team/8/index.html\">Alabama</a></li>,\n",
       " <li class=\"even-row\"><a href=\"/2017/team/31/index.html\">Arkansas</a></li>,\n",
       " <li><a href=\"/2017/team/37/index.html\">Auburn</a></li>,\n",
       " <li class=\"even-row\"><a href=\"/2017/team/235/index.html\">Florida</a></li>,\n",
       " <li><a href=\"/2017/team/257/index.html\">Georgia</a></li>,\n",
       " <li class=\"even-row\"><a href=\"/2017/team/334/index.html\">Kentucky</a></li>,\n",
       " <li><a href=\"/2017/team/365/index.html\">LSU</a></li>,\n",
       " <li class=\"even-row\"><a href=\"/2017/team/433/index.html\">Mississippi</a></li>,\n",
       " <li><a href=\"/2017/team/430/index.html\">Mississippi State</a></li>,\n",
       " <li class=\"even-row\"><a href=\"/2017/team/434/index.html\">Missouri</a></li>,\n",
       " <li><a href=\"/2017/team/648/index.html\">South Carolina</a></li>,\n",
       " <li class=\"even-row\"><a href=\"/2017/team/694/index.html\">Tennessee</a></li>,\n",
       " <li><a href=\"/2017/team/697/index.html\">Texas A&amp;M</a></li>,\n",
       " <li class=\"even-row\"><a href=\"/2017/team/736/index.html\">Vanderbilt</a></li>,\n",
       " <li><a href=\"/2017/team/27/index.html\">Appalachian State</a></li>,\n",
       " <li class=\"even-row\"><a href=\"/2017/team/30/index.html\">Arkansas State</a></li>,\n",
       " <li><a href=\"/2017/team/149/index.html\">Coastal Carolina</a></li>,\n",
       " <li class=\"even-row\"><a href=\"/2017/team/253/index.html\">Georgia Southern</a></li>,\n",
       " <li><a href=\"/2017/team/254/index.html\">Georgia State</a></li>,\n",
       " <li class=\"even-row\"><a href=\"/2017/team/295/index.html\">Idaho</a></li>,\n",
       " <li><a href=\"/2017/team/671/index.html\">Louisiana-Lafayette</a></li>,\n",
       " <li class=\"even-row\"><a href=\"/2017/team/498/index.html\">Louisiana-Monroe</a></li>,\n",
       " <li><a href=\"/2017/team/472/index.html\">New Mexico State</a></li>,\n",
       " <li class=\"even-row\"><a href=\"/2017/team/646/index.html\">South Alabama</a></li>,\n",
       " <li><a href=\"/2017/team/670/index.html\">Texas State</a></li>,\n",
       " <li class=\"even-row\"><a href=\"/2017/team/716/index.html\">Troy</a></li>]"
      ]
     },
     "execution_count": 4,
     "metadata": {},
     "output_type": "execute_result"
    }
   ],
   "source": [
    "lists = soup.select('div.conference > ul > li')\n",
    "lists"
   ]
  },
  {
   "cell_type": "code",
   "execution_count": 5,
   "metadata": {},
   "outputs": [
    {
     "data": {
      "text/html": [
       "<div>\n",
       "<style>\n",
       "    .dataframe thead tr:only-child th {\n",
       "        text-align: right;\n",
       "    }\n",
       "\n",
       "    .dataframe thead th {\n",
       "        text-align: left;\n",
       "    }\n",
       "\n",
       "    .dataframe tbody tr th {\n",
       "        vertical-align: top;\n",
       "    }\n",
       "</style>\n",
       "<table border=\"1\" class=\"dataframe\">\n",
       "  <thead>\n",
       "    <tr style=\"text-align: right;\">\n",
       "      <th></th>\n",
       "      <th>team_id</th>\n",
       "      <th>team_name</th>\n",
       "    </tr>\n",
       "  </thead>\n",
       "  <tbody>\n",
       "    <tr>\n",
       "      <th>0</th>\n",
       "      <td>140</td>\n",
       "      <td>Cincinnati</td>\n",
       "    </tr>\n",
       "    <tr>\n",
       "      <th>1</th>\n",
       "      <td>164</td>\n",
       "      <td>Connecticut</td>\n",
       "    </tr>\n",
       "    <tr>\n",
       "      <th>2</th>\n",
       "      <td>196</td>\n",
       "      <td>East Carolina</td>\n",
       "    </tr>\n",
       "    <tr>\n",
       "      <th>3</th>\n",
       "      <td>288</td>\n",
       "      <td>Houston</td>\n",
       "    </tr>\n",
       "    <tr>\n",
       "      <th>4</th>\n",
       "      <td>404</td>\n",
       "      <td>Memphis</td>\n",
       "    </tr>\n",
       "  </tbody>\n",
       "</table>\n",
       "</div>"
      ],
      "text/plain": [
       "  team_id      team_name\n",
       "0     140     Cincinnati\n",
       "1     164    Connecticut\n",
       "2     196  East Carolina\n",
       "3     288        Houston\n",
       "4     404        Memphis"
      ]
     },
     "execution_count": 5,
     "metadata": {},
     "output_type": "execute_result"
    }
   ],
   "source": [
    "names = []\n",
    "ids = []\n",
    "teams = {'team_name': names, 'team_id': ids}\n",
    "\n",
    "for row in lists:\n",
    "    name = row.find('a').text\n",
    "    teams['team_name'].append(name)\n",
    "    \n",
    "    href = row.a['href'].split('/')\n",
    "    teams['team_id'].append(href[3])\n",
    "\n",
    "df = pd.DataFrame(teams)\n",
    "df.head()"
   ]
  },
  {
   "cell_type": "code",
   "execution_count": 8,
   "metadata": {},
   "outputs": [],
   "source": [
    "df = df.sort_values(by=['team_name']).reset_index(drop=True)"
   ]
  },
  {
   "cell_type": "code",
   "execution_count": 10,
   "metadata": {},
   "outputs": [],
   "source": [
    "df.to_csv('team_ids.csv', index=False)"
   ]
  },
  {
   "cell_type": "code",
   "execution_count": null,
   "metadata": {
    "collapsed": true
   },
   "outputs": [],
   "source": []
  }
 ],
 "metadata": {
  "kernelspec": {
   "display_name": "Python 3",
   "language": "python",
   "name": "python3"
  },
  "language_info": {
   "codemirror_mode": {
    "name": "ipython",
    "version": 3
   },
   "file_extension": ".py",
   "mimetype": "text/x-python",
   "name": "python",
   "nbconvert_exporter": "python",
   "pygments_lexer": "ipython3",
   "version": "3.6.2"
  }
 },
 "nbformat": 4,
 "nbformat_minor": 2
}
